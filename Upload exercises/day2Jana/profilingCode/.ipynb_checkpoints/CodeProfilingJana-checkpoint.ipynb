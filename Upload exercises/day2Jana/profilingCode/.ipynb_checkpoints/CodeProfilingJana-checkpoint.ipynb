{
 "cells": [
  {
   "cell_type": "markdown",
   "metadata": {},
   "source": [
    "# 3. Profiling\n",
    "a. Investigate the performance of the matmult.py script\n",
    "\n",
    "In which line(s) of the script would you start optimizing for speed? Which line(s) create the most memory?\n",
    "\n",
    "- total :725513 function calls (725486 primitive calls) in 14.932 seconds\n",
    "- cPROFILE showed that line 2 needs optimizing for speed: 1   13.972   13.972   14.932   14.932 matmult.py:2(<module>)\n",
    "- line profiler showed that  34.8 % of the time is spend on line: \"for k in range(len(Y))\", and the longest on (64.0 %) on \"result[i][j] += X[i][k] * Y[k][j]\"\n",
    "        These two line needs optimization \n",
    "- the most memory is used by the same lines as above. Clearly these too lines need optimizing. "
   ]
  },
  {
   "cell_type": "markdown",
   "metadata": {},
   "source": [
    "b. Investigate the performance of the euler72.py script\n",
    "\n",
    "In which line(s) of the script would you start optimizing for speed? Which line(s) create the most memory? (This is one problem from the euler project: https://projecteuler.net/problem=72)"
   ]
  },
  {
   "cell_type": "code",
   "execution_count": null,
   "metadata": {},
   "outputs": [],
   "source": []
  }
 ],
 "metadata": {
  "kernelspec": {
   "display_name": "Python 3",
   "language": "python",
   "name": "python3"
  },
  "language_info": {
   "codemirror_mode": {
    "name": "ipython",
    "version": 3
   },
   "file_extension": ".py",
   "mimetype": "text/x-python",
   "name": "python",
   "nbconvert_exporter": "python",
   "pygments_lexer": "ipython3",
   "version": "3.8.3"
  }
 },
 "nbformat": 4,
 "nbformat_minor": 4
}
