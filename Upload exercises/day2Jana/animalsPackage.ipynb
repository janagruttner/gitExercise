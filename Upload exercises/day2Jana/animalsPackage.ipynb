{
 "cells": [
  {
   "cell_type": "code",
   "execution_count": 4,
   "metadata": {},
   "outputs": [
    {
     "name": "stdout",
     "output_type": "stream",
     "text": [
      "Printing members of the Mammals class\n",
      "\tTiger \n",
      "\tElephant \n",
      "\tWild Cat \n",
      "Printing members of the Birds class\n",
      "\tSparrow \n",
      "\tRobin \n",
      "\tDuck \n",
      "Printing members of the Fish class\n",
      "\tSalmon \n",
      "\tCod \n",
      "\tPiranha \n"
     ]
    }
   ],
   "source": [
    "import animals\n",
    "m = animals.Mammals()\n",
    "m.printMembers()\n",
    "\n",
    "b = animals.Birds()\n",
    "b.printMembers()\n",
    "\n",
    "f = animals.Fish()\n",
    "f.printMembers()\n"
   ]
  },
  {
   "cell_type": "code",
   "execution_count": 6,
   "metadata": {},
   "outputs": [
    {
     "ename": "AttributeError",
     "evalue": "module 'animals' has no attribute 'harmless'",
     "output_type": "error",
     "traceback": [
      "\u001b[1;31m---------------------------------------------------------------------------\u001b[0m",
      "\u001b[1;31mAttributeError\u001b[0m                            Traceback (most recent call last)",
      "\u001b[1;32m<ipython-input-6-1ddc866794ff>\u001b[0m in \u001b[0;36m<module>\u001b[1;34m\u001b[0m\n\u001b[0;32m      1\u001b[0m \u001b[1;32mimport\u001b[0m \u001b[0manimals\u001b[0m\u001b[1;33m\u001b[0m\u001b[1;33m\u001b[0m\u001b[0m\n\u001b[0;32m      2\u001b[0m \u001b[1;33m\u001b[0m\u001b[0m\n\u001b[1;32m----> 3\u001b[1;33m \u001b[0mharmless_birds\u001b[0m \u001b[1;33m=\u001b[0m \u001b[0manimals\u001b[0m\u001b[1;33m.\u001b[0m\u001b[0mharmless\u001b[0m\u001b[1;33m.\u001b[0m\u001b[0mBirds\u001b[0m\u001b[1;33m(\u001b[0m\u001b[1;33m)\u001b[0m\u001b[1;33m\u001b[0m\u001b[1;33m\u001b[0m\u001b[0m\n\u001b[0m\u001b[0;32m      4\u001b[0m \u001b[0mharmless_birds\u001b[0m\u001b[1;33m.\u001b[0m\u001b[0mprintMembers\u001b[0m\u001b[1;33m(\u001b[0m\u001b[1;33m)\u001b[0m\u001b[1;33m\u001b[0m\u001b[1;33m\u001b[0m\u001b[0m\n\u001b[0;32m      5\u001b[0m \u001b[1;33m\u001b[0m\u001b[0m\n",
      "\u001b[1;31mAttributeError\u001b[0m: module 'animals' has no attribute 'harmless'"
     ]
    }
   ],
   "source": [
    "import animals\n",
    "\n",
    "harmless_birds = animals.harmless.Birds()\n",
    "harmless_birds.printMembers()\n",
    "\n",
    "dangerous_fish = animals.dangerous.Fish()\n",
    "dangerous_fish.printMembers()"
   ]
  }
 ],
 "metadata": {
  "kernelspec": {
   "display_name": "Python 3",
   "language": "python",
   "name": "python3"
  },
  "language_info": {
   "codemirror_mode": {
    "name": "ipython",
    "version": 3
   },
   "file_extension": ".py",
   "mimetype": "text/x-python",
   "name": "python",
   "nbconvert_exporter": "python",
   "pygments_lexer": "ipython3",
   "version": "3.8.3"
  }
 },
 "nbformat": 4,
 "nbformat_minor": 4
}
