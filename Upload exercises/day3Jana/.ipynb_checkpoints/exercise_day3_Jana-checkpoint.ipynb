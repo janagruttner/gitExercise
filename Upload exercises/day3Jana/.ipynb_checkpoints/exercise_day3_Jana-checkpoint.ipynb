{
 "cells": [
  {
   "cell_type": "code",
   "execution_count": 1,
   "metadata": {},
   "outputs": [],
   "source": [
    "import numpy as np"
   ]
  },
  {
   "cell_type": "code",
   "execution_count": 6,
   "metadata": {},
   "outputs": [
    {
     "data": {
      "text/plain": [
       "array([0., 0., 0., 0., 1., 0., 0., 0., 0., 0.])"
      ]
     },
     "execution_count": 6,
     "metadata": {},
     "output_type": "execute_result"
    }
   ],
   "source": [
    "# a. Create a null vector of size 10 but the fifth value which is 1\n",
    "a = np.zeros(10)\n",
    "a[4] = 1\n",
    "a"
   ]
  },
  {
   "cell_type": "code",
   "execution_count": 11,
   "metadata": {},
   "outputs": [],
   "source": [
    "# b. Create a vector with values ranging from 10 to 49\n",
    "b = np.arange(10, 50)"
   ]
  },
  {
   "cell_type": "code",
   "execution_count": 13,
   "metadata": {},
   "outputs": [
    {
     "data": {
      "text/plain": [
       "array([49, 48, 47, 46, 45, 44, 43, 42, 41, 40, 39, 38, 37, 36, 35, 34, 33,\n",
       "       32, 31, 30, 29, 28, 27, 26, 25, 24, 23, 22, 21, 20, 19, 18, 17, 16,\n",
       "       15, 14, 13, 12, 11, 10])"
      ]
     },
     "execution_count": 13,
     "metadata": {},
     "output_type": "execute_result"
    }
   ],
   "source": [
    "# c. Reverse a vector (first element becomes last)\n",
    "c = b[::-1]\n",
    "c"
   ]
  },
  {
   "cell_type": "code",
   "execution_count": 17,
   "metadata": {},
   "outputs": [
    {
     "data": {
      "text/plain": [
       "array([[0, 1, 2],\n",
       "       [3, 4, 5],\n",
       "       [6, 7, 8]])"
      ]
     },
     "execution_count": 17,
     "metadata": {},
     "output_type": "execute_result"
    }
   ],
   "source": [
    "# d. Create a 3x3 matrix with values ranging from 0 to 8\n",
    "d = np.arange(0, 9).reshape(3,3)\n",
    "d"
   ]
  },
  {
   "cell_type": "code",
   "execution_count": 20,
   "metadata": {},
   "outputs": [
    {
     "data": {
      "text/plain": [
       "(array([0, 1, 4], dtype=int64),)"
      ]
     },
     "execution_count": 20,
     "metadata": {},
     "output_type": "execute_result"
    }
   ],
   "source": [
    "# e. Find indices of non-zero elements from [1,2,0,0,4,0]\n",
    "e = np.array([1,2,0,0,4,0])\n",
    "np.nonzero(e)"
   ]
  },
  {
   "cell_type": "code",
   "execution_count": 23,
   "metadata": {},
   "outputs": [
    {
     "data": {
      "text/plain": [
       "0.5656174441573759"
      ]
     },
     "execution_count": 23,
     "metadata": {},
     "output_type": "execute_result"
    }
   ],
   "source": [
    "# f. Create a random vector of size 30 and find the mean value\n",
    "f = np.random.rand(30)\n",
    "np.mean(f)"
   ]
  },
  {
   "cell_type": "code",
   "execution_count": 40,
   "metadata": {},
   "outputs": [
    {
     "data": {
      "text/plain": [
       "array([[1., 1., 1., 1., 1., 1.],\n",
       "       [1., 0., 0., 0., 0., 1.],\n",
       "       [1., 0., 0., 0., 0., 1.],\n",
       "       [1., 0., 0., 0., 0., 1.],\n",
       "       [1., 0., 0., 0., 0., 1.],\n",
       "       [1., 1., 1., 1., 1., 1.]])"
      ]
     },
     "execution_count": 40,
     "metadata": {},
     "output_type": "execute_result"
    }
   ],
   "source": [
    "# g. Create a 2d array with 1 on the border and 0 inside\n",
    "g = np.ones((6,6))\n",
    "g[1:-1, 1:-1] = 0\n",
    "g"
   ]
  },
  {
   "cell_type": "code",
   "execution_count": 51,
   "metadata": {},
   "outputs": [
    {
     "data": {
      "text/plain": [
       "array([[0., 1., 0., 1., 0., 1., 0., 1.],\n",
       "       [1., 0., 1., 0., 1., 0., 1., 0.],\n",
       "       [0., 1., 0., 1., 0., 1., 0., 1.],\n",
       "       [1., 0., 1., 0., 1., 0., 1., 0.],\n",
       "       [0., 1., 0., 1., 0., 1., 0., 1.],\n",
       "       [1., 0., 1., 0., 1., 0., 1., 0.],\n",
       "       [0., 1., 0., 1., 0., 1., 0., 1.],\n",
       "       [1., 0., 1., 0., 1., 0., 1., 0.]])"
      ]
     },
     "execution_count": 51,
     "metadata": {},
     "output_type": "execute_result"
    }
   ],
   "source": [
    "# h. Create a 8x8 matrix and fill it with a checkerboard pattern\n",
    "h = np.zeros((8,8))\n",
    "h[1::2,::2] = 1\n",
    "h[::2,1::2] = 1\n",
    "h"
   ]
  },
  {
   "cell_type": "code",
   "execution_count": 57,
   "metadata": {},
   "outputs": [
    {
     "data": {
      "text/plain": [
       "array([ 0,  1, -2, -3, -4, -5, -6, -7,  8,  9, 10])"
      ]
     },
     "execution_count": 57,
     "metadata": {},
     "output_type": "execute_result"
    }
   ],
   "source": [
    "#j. Given a 1D array, negate all elements which are between 3 and 8, in place\n",
    "\n",
    "Z = np.arange(11)\n",
    "Z[2:8] = np.negative(Z[2:8])\n",
    "Z\n"
   ]
  },
  {
   "cell_type": "code",
   "execution_count": 58,
   "metadata": {},
   "outputs": [
    {
     "name": "stdout",
     "output_type": "stream",
     "text": [
      "[0.09180609 0.11780229 0.12657019 0.20080875 0.40373761 0.44902894\n",
      " 0.62230185 0.74745382 0.76541545 0.78706404]\n"
     ]
    }
   ],
   "source": [
    "# k. Create a random vector of size 10 and sort it\n",
    "Z = np.random.random(10)\n",
    "Z = np.sort(Z)\n",
    "print(Z)"
   ]
  },
  {
   "cell_type": "code",
   "execution_count": 64,
   "metadata": {},
   "outputs": [
    {
     "name": "stdout",
     "output_type": "stream",
     "text": [
      "False\n"
     ]
    }
   ],
   "source": [
    "# l. Consider two random array A anb B, check if they are equal\n",
    "\n",
    "A = np.random.randint(0,2,5)\n",
    "B = np.random.randint(0,2,5)\n",
    "equal = np.allclose(A, B)\n",
    "print(equal)\n"
   ]
  },
  {
   "cell_type": "code",
   "execution_count": 66,
   "metadata": {},
   "outputs": [
    {
     "name": "stdout",
     "output_type": "stream",
     "text": [
      "int32\n",
      "float32\n"
     ]
    }
   ],
   "source": [
    "# m. How to convert an integer (32 bits) array into a float (32 bits) in place?\n",
    "Z = np.arange(10, dtype=np.int32)\n",
    "print(Z.dtype)\n",
    "Z = np.arange(10, dtype=np.float32)\n",
    "print(Z.dtype)"
   ]
  },
  {
   "cell_type": "code",
   "execution_count": 77,
   "metadata": {},
   "outputs": [
    {
     "name": "stdout",
     "output_type": "stream",
     "text": [
      "[ 18  66 132]\n"
     ]
    }
   ],
   "source": [
    "# n. How to get the diagonal of a dot product?\n",
    "\n",
    "A = np.arange(9).reshape(3,3)\n",
    "B = A + 1\n",
    "C = np.dot(A,B)\n",
    "D = np.diagonal(C)\n",
    "print(D)\n"
   ]
  },
  {
   "cell_type": "code",
   "execution_count": 25,
   "metadata": {},
   "outputs": [
    {
     "data": {
      "text/plain": [
       "array([[651932.70987101, 643833.71458589, 652312.64383819, ...,\n",
       "        609322.59430166, 650169.79054406, 632648.87557018],\n",
       "       [610544.0597216 , 600047.75702737, 621811.50386049, ...,\n",
       "        593246.61938119, 626961.21802543, 603500.37370348],\n",
       "       [636284.50932706, 596143.02662566, 632776.79691035, ...,\n",
       "        632270.36157617, 657289.96092661, 622269.37641038],\n",
       "       ...,\n",
       "       [631755.92088406, 601111.47190115, 647868.88651263, ...,\n",
       "        623949.93170858, 619652.84905957, 602517.41082787],\n",
       "       [616516.00789626, 591407.85815401, 627046.51064387, ...,\n",
       "        601072.13982236, 611671.42894131, 619980.53360017],\n",
       "       [657561.37320724, 605108.09327905, 649077.69962481, ...,\n",
       "        623383.17122869, 660497.36532075, 629378.02511447]])"
      ]
     },
     "execution_count": 25,
     "metadata": {},
     "output_type": "execute_result"
    }
   ],
   "source": [
    "#2. improve speed of original mutmul.py\n",
    "import numpy as np\n",
    "\n",
    "N = 250\n",
    "\n",
    "X = np.random.uniform(0, 100, (N, N))\n",
    "    \n",
    "Y = np.random.uniform(0, 100, (N,N+1))\n",
    "\n",
    "R = np.matmul(X, Y)\n",
    "R"
   ]
  },
  {
   "cell_type": "markdown",
   "metadata": {},
   "source": [
    "a. Create a \"Person\" class which takes firstname and lastname as arguments to the constructor (___init___) and define a method that returns the full name of the person as a combined string."
   ]
  },
  {
   "cell_type": "code",
   "execution_count": 2,
   "metadata": {},
   "outputs": [
    {
     "name": "stdout",
     "output_type": "stream",
     "text": [
      "Jane Doe\n"
     ]
    },
    {
     "data": {
      "text/plain": [
       "<bound method Person.printfullname of <__main__.Person object at 0x00000220247244F0>>"
      ]
     },
     "execution_count": 2,
     "metadata": {},
     "output_type": "execute_result"
    }
   ],
   "source": [
    "class Person:\n",
    "    def __init__(self, firstname, lastname):\n",
    "        self.firstname = firstname\n",
    "        self.lastname = lastname \n",
    "        print(firstname+' ' +lastname)    \n",
    "    \n",
    "    def printfullname(self):\n",
    "        return self.printfullname\n",
    "       # return \"%s %s\" % (self.name, self.species)\n",
    "        \n",
    "person = Person(\n",
    "    \"Jane\",\n",
    "    \"Doe\")\n",
    "person.printfullname"
   ]
  },
  {
   "cell_type": "code",
   "execution_count": 3,
   "metadata": {},
   "outputs": [
    {
     "name": "stdout",
     "output_type": "stream",
     "text": [
      "Jana Gruttner\n"
     ]
    }
   ],
   "source": [
    "class Person:\n",
    "    def __init__(self, firstname, lastname):\n",
    "        self.firstname = firstname\n",
    "        self.lastname = lastname\n",
    "\n",
    "    @property\n",
    "    def fullname(self):\n",
    "        #return self.fullname\n",
    "        return \"%s %s\" % (self.firstname, self.lastname)\n",
    "\n",
    "me = Person(\"Jana\", \"Gruttner\")\n",
    "print(me.fullname) # no brackets!"
   ]
  },
  {
   "cell_type": "markdown",
   "metadata": {},
   "source": [
    "b. Create a \"Student\" class which inherits from the \"Person\" class, takes the subject area as an additional argument to the constructor and define a method that prints the full name and the subject area of the student."
   ]
  },
  {
   "cell_type": "code",
   "execution_count": null,
   "metadata": {},
   "outputs": [],
   "source": []
  },
  {
   "cell_type": "code",
   "execution_count": 7,
   "metadata": {},
   "outputs": [
    {
     "name": "stdout",
     "output_type": "stream",
     "text": [
      "Jana Gruttner Biology\n"
     ]
    }
   ],
   "source": [
    "class Student(Person):\n",
    "    def __init__(self, firstname, lastname, subject):\n",
    "        super(Student, self).__init__(firstname, lastname)\n",
    "        self.subject = subject\n",
    "        \n",
    "    @property\n",
    "    def fullnameSubject(self):\n",
    "        return \"%s %s %s\" % (self.firstname, self.lastname, self.subject)\n",
    "    \n",
    "me2 = Student(\"Jana\", \"Gruttner\", \"Biology\")\n",
    "print(me2.fullnameSubject) # no brackets!Class Inheritance"
   ]
  },
  {
   "cell_type": "markdown",
   "metadata": {},
   "source": [
    "d. Create a \"Teacher\" class which also inherits from \"Person\", takes the name of the course (e.g. Python programming) as an argument and define a method that prints the full name of the teacher and the course he teaches."
   ]
  },
  {
   "cell_type": "code",
   "execution_count": 8,
   "metadata": {},
   "outputs": [
    {
     "name": "stdout",
     "output_type": "stream",
     "text": [
      "Jana Gruttner Biology\n"
     ]
    }
   ],
   "source": [
    "class Teacher(Person):\n",
    "    def __init__(self, firstname, lastname, course):\n",
    "        super(Teacher, self).__init__(firstname, lastname)\n",
    "        self.course = course\n",
    "        \n",
    "    @property\n",
    "    def fullnameCourse(self):\n",
    "        return \"%s %s %s\" % (self.firstname, self.lastname, self.course)\n",
    "    \n",
    "me3 = Teacher(\"Jana\", \"Gruttner\", \"Biology\")\n",
    "print(me3.fullnameCourse) # no brackets!Class Inheritance"
   ]
  },
  {
   "cell_type": "code",
   "execution_count": null,
   "metadata": {},
   "outputs": [],
   "source": []
  }
 ],
 "metadata": {
  "kernelspec": {
   "display_name": "Python 3",
   "language": "python",
   "name": "python3"
  },
  "language_info": {
   "codemirror_mode": {
    "name": "ipython",
    "version": 3
   },
   "file_extension": ".py",
   "mimetype": "text/x-python",
   "name": "python",
   "nbconvert_exporter": "python",
   "pygments_lexer": "ipython3",
   "version": "3.8.3"
  }
 },
 "nbformat": 4,
 "nbformat_minor": 4
}
